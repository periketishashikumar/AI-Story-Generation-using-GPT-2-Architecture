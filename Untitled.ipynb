{
 "cells": [
  {
   "cell_type": "code",
   "execution_count": 12,
   "id": "8039f485",
   "metadata": {},
   "outputs": [],
   "source": [
    "from transformers import GPT2LMHeadModel, GPT2Tokenizer\n",
    "import re\n",
    "import textwrap"
   ]
  },
  {
   "cell_type": "code",
   "execution_count": 13,
   "id": "38be9393",
   "metadata": {},
   "outputs": [],
   "source": [
    "from fastai.text.all import *"
   ]
  },
  {
   "cell_type": "code",
   "execution_count": 14,
   "id": "831516a9",
   "metadata": {},
   "outputs": [],
   "source": [
    "from transformers import GPT2LMHeadModel, GPT2Tokenizer\n",
    "import textwrap\n",
    "import string"
   ]
  },
  {
   "cell_type": "code",
   "execution_count": 15,
   "id": "0d7bcad8",
   "metadata": {},
   "outputs": [],
   "source": [
    "# Load the fine-tuned model and tokenizer\n",
    "fine_tuned_model = GPT2LMHeadModel.from_pretrained(\"./fine_tuned_large_model\")\n",
    "tokenizer = GPT2Tokenizer.from_pretrained(\"gpt2-large\")"
   ]
  },
  {
   "cell_type": "code",
   "execution_count": 16,
   "id": "d02f2a08",
   "metadata": {},
   "outputs": [],
   "source": [
    "\n",
    "def index1(text):\n",
    "    \"\"\"\n",
    "    Generates text based on the input prompt using a fine-tuned GPT-2 model.\n",
    "    \"\"\"\n",
    "    try:\n",
    "        print(\"\\nGenerating text. Please wait...\\n\")\n",
    "        input_ids = tokenizer.encode(text, return_tensors=\"pt\")\n",
    "        generated_ids = fine_tuned_model.generate(\n",
    "            input_ids,\n",
    "            max_length=1024,  # Adjust max length to a reasonable value\n",
    "            num_return_sequences=1,\n",
    "            no_repeat_ngram_size=2,\n",
    "            top_p=0.95,\n",
    "            temperature=0.7,\n",
    "        )\n",
    "        generated_text = tokenizer.decode(generated_ids[0], skip_special_tokens=True)\n",
    "        return \"\\n\".join(textwrap.wrap(generated_text, width=80))\n",
    "    except Exception as e:\n",
    "        return f\"Error: {e}\"\n"
   ]
  },
  {
   "cell_type": "code",
   "execution_count": 17,
   "id": "ba310f8d",
   "metadata": {},
   "outputs": [],
   "source": [
    "\n",
    "def preprocess_text(text):\n",
    "    \"\"\"\n",
    "    Cleans and preprocesses input text.\n",
    "    \"\"\"\n",
    "    text = text.lower()\n",
    "    words = text.split()\n",
    "    words = [word.strip(string.punctuation) for word in words]\n",
    "    return ' '.join(words)\n"
   ]
  },
  {
   "cell_type": "code",
   "execution_count": 20,
   "id": "e034d31b",
   "metadata": {},
   "outputs": [
    {
     "name": "stderr",
     "output_type": "stream",
     "text": [
      "The attention mask and the pad token id were not set. As a consequence, you may observe unexpected behavior. Please pass your input's `attention_mask` to obtain reliable results.\n",
      "Setting `pad_token_id` to `eos_token_id`:None for open-end generation.\n"
     ]
    },
    {
     "name": "stdout",
     "output_type": "stream",
     "text": [
      "\n",
      "Generating text. Please wait...\n",
      "\n",
      "\n",
      "Generated Story:\n",
      "\n",
      "create a new story of a farmer as a hero, and a young girl as the heroine.  The\n",
      "story is set in the fictional village of Kishinjima, a small town in Japan's\n",
      "northernmost prefecture. The village is a place where the people live in\n",
      "harmony, but the village's main attraction is the giant, giant tree. It is said\n",
      "that the tree is so big that it can be seen from space. In the story, the\n",
      "farmer, who is also a famous author, is trying to write a book about the history\n",
      "of the town. He is not able to find a suitable story to tell, so he decides to\n",
      "create a story about a giant. However, he is unable to come up with a good\n",
      "story. One day, while he was writing a letter to his wife, his daughter, Kiyoko,\n",
      "comes to visit him. She is very interested in his book, which she is reading.\n",
      "Kizuna, her father, tells her that he has a great idea for a novel, one that\n",
      "will be a classic. When Kiseki hears this, she becomes very excited. Her father\n",
      "is an author himself, after all. So, when Kizeki is about to leave, they decide\n",
      "to go to the forest to see the Giant Tree. They go there, where they find the\n",
      "book. But, as they are about ready to read it, their father suddenly disappears.\n",
      "As they try to follow him, however, it is revealed that his body has been taken\n",
      "over by the Tree, making him a ghost. After a while, though, an old man appears\n",
      "and tells them that they have to return to their village. This old woman is\n",
      "Kiko, whose father was a writer. Now, with the help of her mother, whom she has\n",
      "never met, both Kisa and Kizu are able, once again, to live happily in their own\n",
      "village, despite the fact that their parents are dead.\n"
     ]
    }
   ],
   "source": [
    "\n",
    "# Example usage\n",
    "if __name__ == \"__main__\":\n",
    "    prompt = \"Create a new story of a farmer as a hero\"\n",
    "    cleaned_prompt = preprocess_text(prompt)\n",
    "    story = index1(cleaned_prompt)\n",
    "    print(\"\\nGenerated Story:\\n\")\n",
    "    print(story)"
   ]
  },
  {
   "cell_type": "code",
   "execution_count": null,
   "id": "529657d5",
   "metadata": {},
   "outputs": [],
   "source": []
  }
 ],
 "metadata": {
  "kernelspec": {
   "display_name": "Python 3 (ipykernel)",
   "language": "python",
   "name": "python3"
  },
  "language_info": {
   "codemirror_mode": {
    "name": "ipython",
    "version": 3
   },
   "file_extension": ".py",
   "mimetype": "text/x-python",
   "name": "python",
   "nbconvert_exporter": "python",
   "pygments_lexer": "ipython3",
   "version": "3.9.13"
  }
 },
 "nbformat": 4,
 "nbformat_minor": 5
}
